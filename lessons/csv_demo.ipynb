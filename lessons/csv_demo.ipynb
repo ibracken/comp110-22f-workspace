{
 "cells": [
  {
   "cell_type": "markdown",
   "metadata": {},
   "source": [
    "# Working with CSV Data\n",
    "\n",
    "Comma-seperated value files are commonly used for sharing tables o data between systems.\n",
    "\n",
    "Programs like Microsoft Excel, Gogle Seets, as well as popular data base systems can produce CSV files as exports and programs, such as the one we will write today, have libraries for reading and processing data in from CSV files."
   ]
  },
  {
   "cell_type": "code",
   "execution_count": 2,
   "metadata": {},
   "outputs": [
    {
     "name": "stdout",
     "output_type": "stream",
     "text": [
      "autoreload of imported modules enabled. Be sure to save your modules!\n"
     ]
    }
   ],
   "source": [
    "%reload_ext autoreload\n",
    "%autoreload 2\n",
    "print(\"autoreload of imported modules enabled. Be sure to save your modules!\")"
   ]
  },
  {
   "cell_type": "markdown",
   "metadata": {},
   "source": [
    "## Importing Utility Functions\n",
    "\n",
    "Our helper functions will be located in `lessons/data_utils.py` and we will import the functions in the code cell below."
   ]
  },
  {
   "cell_type": "code",
   "execution_count": 3,
   "metadata": {},
   "outputs": [
    {
     "data": {
      "text/plain": [
       "[{'date': '10/16', 'low': '56', 'high': '75', '': None},\n",
       " {'date': '10/17', 'low': '57', 'high': '76', '': None},\n",
       " {'date': '10/18', 'low': '62', 'high': '75', '': None},\n",
       " {'date': '10/19', 'low': '64', 'high': '79', '': None}]"
      ]
     },
     "execution_count": 3,
     "metadata": {},
     "output_type": "execute_result"
    }
   ],
   "source": [
    "from data_utils import read_csv_rows\n",
    "\n",
    "data_file: str = \"../data/weather.csv\"\n",
    "data_table: list[dict[str, str]] = read_csv_rows(data_file)\n",
    "data_table"
   ]
  },
  {
   "cell_type": "markdown",
   "metadata": {},
   "source": [
    "## Selecting the values of a single column with `column_values`"
   ]
  },
  {
   "cell_type": "code",
   "execution_count": 4,
   "metadata": {},
   "outputs": [
    {
     "data": {
      "text/plain": [
       "['75', '76', '75', '79']"
      ]
     },
     "execution_count": 4,
     "metadata": {},
     "output_type": "execute_result"
    }
   ],
   "source": [
    "from data_utils import column_values\n",
    "\n",
    "dates: list[str] = column_values(data_table, \"high\")\n",
    "dates"
   ]
  },
  {
   "cell_type": "markdown",
   "metadata": {},
   "source": [
    "## Convert a row oriented table to a column oriented \"table\""
   ]
  },
  {
   "cell_type": "code",
   "execution_count": 5,
   "metadata": {},
   "outputs": [
    {
     "data": {
      "text/plain": [
       "{'date': ['10/16', '10/17', '10/18', '10/19'],\n",
       " 'low': ['56', '57', '62', '64'],\n",
       " 'high': ['75', '76', '75', '79'],\n",
       " '': [None, None, None, None]}"
      ]
     },
     "execution_count": 5,
     "metadata": {},
     "output_type": "execute_result"
    }
   ],
   "source": [
    "from data_utils import columnar\n",
    "\n",
    "column_table: dict[str, list[str]] = columnar(data_table)\n",
    "column_table"
   ]
  }
 ],
 "metadata": {
  "kernelspec": {
   "display_name": "Python 3.10.6 64-bit",
   "language": "python",
   "name": "python3"
  },
  "language_info": {
   "codemirror_mode": {
    "name": "ipython",
    "version": 3
   },
   "file_extension": ".py",
   "mimetype": "text/x-python",
   "name": "python",
   "nbconvert_exporter": "python",
   "pygments_lexer": "ipython3",
   "version": "3.10.6"
  },
  "orig_nbformat": 4,
  "vscode": {
   "interpreter": {
    "hash": "44ae137a739d6b5f46cfba27a7a5dee44c6613daa98ff772835e0e44b3ddddea"
   }
  }
 },
 "nbformat": 4,
 "nbformat_minor": 2
}
